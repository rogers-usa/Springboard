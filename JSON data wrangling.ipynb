{
 "cells": [
  {
   "cell_type": "markdown",
   "metadata": {},
   "source": [
    "# JSON Data Wrangling\n",
    "\n",
    "#### Problem Statement\n",
    "Given data from the World Bank in JSON file format, \n",
    "1. Find the 10 countries with most projects\n",
    "2. Find the top 10 major project themes (using column 'mjtheme_namecode')\n",
    "3. In 2. above you will notice that some entries have only the code and the name is missing. Create a dataframe with the missing names filled in.\n",
    "\n",
    "#### Dataset\n",
    "\n",
    "+ A JSON file containing data about projects funded by the World Bank: 'data/world_bank_projects.json'"
   ]
  },
  {
   "cell_type": "markdown",
   "metadata": {},
   "source": [
    "*****\n",
    "## Problem 1 - Find the 10 countries with the most projects"
   ]
  },
  {
   "cell_type": "code",
   "execution_count": 1,
   "metadata": {},
   "outputs": [
    {
     "data": {
      "text/plain": [
       "People's Republic of China         19\n",
       "Republic of Indonesia              19\n",
       "Socialist Republic of Vietnam      17\n",
       "Republic of India                  16\n",
       "Republic of Yemen                  13\n",
       "Nepal                              12\n",
       "People's Republic of Bangladesh    12\n",
       "Kingdom of Morocco                 12\n",
       "Republic of Mozambique             11\n",
       "Africa                             11\n",
       "Name: countryname, dtype: int64"
      ]
     },
     "execution_count": 1,
     "metadata": {},
     "output_type": "execute_result"
    }
   ],
   "source": [
    "# Import packages\n",
    "import json\n",
    "import pandas as pd\n",
    "from collections import Counter\n",
    "\n",
    "# load the JSON file as a Pandas dataframe\n",
    "json_df = pd.read_json('data/world_bank_projects.json')\n",
    "\n",
    "# Display the count of values in the countryname column, for the top 10\n",
    "json_df.countryname.value_counts().head(10)"
   ]
  },
  {
   "cell_type": "markdown",
   "metadata": {},
   "source": [
    "We see from these results that Indonesia and China tie for the most World Bank projects."
   ]
  },
  {
   "cell_type": "markdown",
   "metadata": {},
   "source": [
    "*****\n",
    "## Problem 2 - Find the Top 10 Major Project Themes"
   ]
  },
  {
   "cell_type": "code",
   "execution_count": 2,
   "metadata": {},
   "outputs": [
    {
     "data": {
      "text/plain": [
       "0    [{'code': '8', 'name': 'Human development'}, {...\n",
       "1    [{'code': '1', 'name': 'Economic management'},...\n",
       "2    [{'code': '5', 'name': 'Trade and integration'...\n",
       "3    [{'code': '7', 'name': 'Social dev/gender/incl...\n",
       "4    [{'code': '5', 'name': 'Trade and integration'...\n",
       "Name: mjtheme_namecode, dtype: object"
      ]
     },
     "execution_count": 2,
     "metadata": {},
     "output_type": "execute_result"
    }
   ],
   "source": [
    "# Show the column where the Major Project Themes are stored\n",
    "json_df.mjtheme_namecode.head()"
   ]
  },
  {
   "cell_type": "markdown",
   "metadata": {},
   "source": [
    "We see that the Major Project Themes are in a list of dictionaries in the column mjtheme_namecode.\n",
    "\n",
    "To count the Major Project Themes, we must loop through each dictionary in each row."
   ]
  },
  {
   "cell_type": "code",
   "execution_count": 3,
   "metadata": {
    "scrolled": true
   },
   "outputs": [
    {
     "data": {
      "text/plain": [
       "Counter({'Human development': 197,\n",
       "         '': 122,\n",
       "         'Economic management': 33,\n",
       "         'Social protection and risk management': 158,\n",
       "         'Trade and integration': 72,\n",
       "         'Public sector governance': 184,\n",
       "         'Environment and natural resources management': 223,\n",
       "         'Social dev/gender/inclusion': 119,\n",
       "         'Financial and private sector development': 130,\n",
       "         'Rural development': 202,\n",
       "         'Urban development': 47,\n",
       "         'Rule of law': 12})"
      ]
     },
     "execution_count": 3,
     "metadata": {},
     "output_type": "execute_result"
    }
   ],
   "source": [
    "# Create a counter for projects by each major theme\n",
    "projects_by_mjtheme = Counter()\n",
    "\n",
    "# Loop through each instance of mjtheme_namecode\n",
    "for major_theme_nc in json_df.mjtheme_namecode:\n",
    "    major_proj_theme = pd.json_normalize(major_theme_nc, max_level=1)\n",
    "    \n",
    "    #Loop through each dictionary in this mjtheme_namecode\n",
    "    for n in major_proj_theme['name']:\n",
    "        projects_by_mjtheme[n] += 1\n",
    "\n",
    "# Print the counter \n",
    "projects_by_mjtheme\n"
   ]
  },
  {
   "cell_type": "code",
   "execution_count": 4,
   "metadata": {},
   "outputs": [
    {
     "data": {
      "text/html": [
       "<div>\n",
       "<style scoped>\n",
       "    .dataframe tbody tr th:only-of-type {\n",
       "        vertical-align: middle;\n",
       "    }\n",
       "\n",
       "    .dataframe tbody tr th {\n",
       "        vertical-align: top;\n",
       "    }\n",
       "\n",
       "    .dataframe thead th {\n",
       "        text-align: right;\n",
       "    }\n",
       "</style>\n",
       "<table border=\"1\" class=\"dataframe\">\n",
       "  <thead>\n",
       "    <tr style=\"text-align: right;\">\n",
       "      <th></th>\n",
       "      <th>Count</th>\n",
       "    </tr>\n",
       "    <tr>\n",
       "      <th>Major Project Theme</th>\n",
       "      <th></th>\n",
       "    </tr>\n",
       "  </thead>\n",
       "  <tbody>\n",
       "    <tr>\n",
       "      <th>Environment and natural resources management</th>\n",
       "      <td>223</td>\n",
       "    </tr>\n",
       "    <tr>\n",
       "      <th>Rural development</th>\n",
       "      <td>202</td>\n",
       "    </tr>\n",
       "    <tr>\n",
       "      <th>Human development</th>\n",
       "      <td>197</td>\n",
       "    </tr>\n",
       "    <tr>\n",
       "      <th>Public sector governance</th>\n",
       "      <td>184</td>\n",
       "    </tr>\n",
       "    <tr>\n",
       "      <th>Social protection and risk management</th>\n",
       "      <td>158</td>\n",
       "    </tr>\n",
       "    <tr>\n",
       "      <th>Financial and private sector development</th>\n",
       "      <td>130</td>\n",
       "    </tr>\n",
       "    <tr>\n",
       "      <th></th>\n",
       "      <td>122</td>\n",
       "    </tr>\n",
       "    <tr>\n",
       "      <th>Social dev/gender/inclusion</th>\n",
       "      <td>119</td>\n",
       "    </tr>\n",
       "    <tr>\n",
       "      <th>Trade and integration</th>\n",
       "      <td>72</td>\n",
       "    </tr>\n",
       "    <tr>\n",
       "      <th>Urban development</th>\n",
       "      <td>47</td>\n",
       "    </tr>\n",
       "  </tbody>\n",
       "</table>\n",
       "</div>"
      ],
      "text/plain": [
       "                                              Count\n",
       "Major Project Theme                                \n",
       "Environment and natural resources management    223\n",
       "Rural development                               202\n",
       "Human development                               197\n",
       "Public sector governance                        184\n",
       "Social protection and risk management           158\n",
       "Financial and private sector development        130\n",
       "                                                122\n",
       "Social dev/gender/inclusion                     119\n",
       "Trade and integration                            72\n",
       "Urban development                                47"
      ]
     },
     "execution_count": 4,
     "metadata": {},
     "output_type": "execute_result"
    }
   ],
   "source": [
    "# Convert the Counter dictionary to a dataframe df_major_theme_count for sorting and display.\n",
    "df_major_theme_count = pd.DataFrame.from_dict(projects_by_mjtheme, orient='index', columns=['Count'])\n",
    "df_major_theme_count.index.name = 'Major Project Theme'\n",
    "\n",
    "# Display the count of the 10 major project themes\n",
    "df_major_theme_count.sort_values('Count', ascending=False).head(10)"
   ]
  },
  {
   "cell_type": "markdown",
   "metadata": {},
   "source": [
    "The most common major theme for World Bank projects is \"Environment and natural resources management\" with 223 projects.\n",
    "\n",
    "However, we see that we have 122 missing values. "
   ]
  },
  {
   "cell_type": "markdown",
   "metadata": {},
   "source": [
    "*****\n",
    "## Problem 3 - Handling Missing Values\n",
    "As shown in Problem 2, the name of the major project theme is missing in 122 instances. We can fill in the missing values based on other data using these steps:\n",
    "1. Create a dictionary of major project theme codes and names.\n",
    "2. Populate the missing values from this new dictionary.\n",
    "3. Rerun the analysis to find the top 10 major project themes in the corrected dataset.\n"
   ]
  },
  {
   "cell_type": "code",
   "execution_count": 5,
   "metadata": {},
   "outputs": [
    {
     "name": "stdout",
     "output_type": "stream",
     "text": [
      "[('1', 'Economic management'), ('10', 'Rural development'), ('11', 'Environment and natural resources management'), ('2', 'Public sector governance'), ('3', 'Rule of law'), ('4', 'Financial and private sector development'), ('5', 'Trade and integration'), ('6', 'Social protection and risk management'), ('7', 'Social dev/gender/inclusion'), ('8', 'Human development'), ('9', 'Urban development')]\n"
     ]
    }
   ],
   "source": [
    "# Create a dictionary of major project theme codes and their associated names\n",
    "mjtheme_dict = {}\n",
    "\n",
    "# Loop through each instance of mjtheme_namecode\n",
    "for mjtheme_nc in json_df.mjtheme_namecode:\n",
    "    \n",
    "    #Loop through each dictionary in this mjtheme_namecode\n",
    "    for d in mjtheme_nc:\n",
    "        \n",
    "        # If the name is not blank, add the code and name pair to the dictionary\n",
    "        if d['name'] != '':\n",
    "            mjtheme_dict[d['code']] = d['name']\n",
    "\n",
    "# Sort and display the dictionary\n",
    "print(sorted(mjtheme_dict.items()))"
   ]
  },
  {
   "cell_type": "markdown",
   "metadata": {},
   "source": [
    "We see that major projects are classified under 11 distinct themes. \n",
    "\n",
    "Now, create a copy of the dataframe with the missing values filled in from the dictionary. "
   ]
  },
  {
   "cell_type": "code",
   "execution_count": 6,
   "metadata": {},
   "outputs": [
    {
     "name": "stdout",
     "output_type": "stream",
     "text": [
      "122\n"
     ]
    }
   ],
   "source": [
    "# Create a copy of the JSON dataframe\n",
    "df_corrected = json_df\n",
    "\n",
    "# Set counter, index\n",
    "replacements_made = 0\n",
    "i = 0\n",
    "\n",
    "# Loop through each instance of mjtheme_namecode\n",
    "for mjtheme_nc in df_corrected.mjtheme_namecode:\n",
    "    j = 0\n",
    "    \n",
    "    # Loop through each dictionary in this mjtheme_namecode \n",
    "    for d in mjtheme_nc:\n",
    "        \n",
    "        # If the name *is* blank, replace it with the dictionary value\n",
    "        if d['name'] == '':\n",
    "            df_corrected.mjtheme_namecode[i][j]['name'] = mjtheme_dict[d['code']]\n",
    "            replacements_made += 1\n",
    "        j += 1\n",
    "    \n",
    "    i += 1\n",
    "\n",
    "# Display the counter to check how many blank names were replaced     \n",
    "print(replacements_made)"
   ]
  },
  {
   "cell_type": "markdown",
   "metadata": {},
   "source": [
    "As expected, 122 null values were replaced.\n",
    "\n",
    "Now, rerun our count on the corrected process to show the Top 10 Major Project Themes."
   ]
  },
  {
   "cell_type": "code",
   "execution_count": 7,
   "metadata": {},
   "outputs": [
    {
     "data": {
      "text/html": [
       "<div>\n",
       "<style scoped>\n",
       "    .dataframe tbody tr th:only-of-type {\n",
       "        vertical-align: middle;\n",
       "    }\n",
       "\n",
       "    .dataframe tbody tr th {\n",
       "        vertical-align: top;\n",
       "    }\n",
       "\n",
       "    .dataframe thead th {\n",
       "        text-align: right;\n",
       "    }\n",
       "</style>\n",
       "<table border=\"1\" class=\"dataframe\">\n",
       "  <thead>\n",
       "    <tr style=\"text-align: right;\">\n",
       "      <th></th>\n",
       "      <th>Count</th>\n",
       "    </tr>\n",
       "    <tr>\n",
       "      <th>Major Project Theme</th>\n",
       "      <th></th>\n",
       "    </tr>\n",
       "  </thead>\n",
       "  <tbody>\n",
       "    <tr>\n",
       "      <th>Environment and natural resources management</th>\n",
       "      <td>250</td>\n",
       "    </tr>\n",
       "    <tr>\n",
       "      <th>Rural development</th>\n",
       "      <td>216</td>\n",
       "    </tr>\n",
       "    <tr>\n",
       "      <th>Human development</th>\n",
       "      <td>210</td>\n",
       "    </tr>\n",
       "    <tr>\n",
       "      <th>Public sector governance</th>\n",
       "      <td>199</td>\n",
       "    </tr>\n",
       "    <tr>\n",
       "      <th>Social protection and risk management</th>\n",
       "      <td>168</td>\n",
       "    </tr>\n",
       "    <tr>\n",
       "      <th>Financial and private sector development</th>\n",
       "      <td>146</td>\n",
       "    </tr>\n",
       "    <tr>\n",
       "      <th>Social dev/gender/inclusion</th>\n",
       "      <td>130</td>\n",
       "    </tr>\n",
       "    <tr>\n",
       "      <th>Trade and integration</th>\n",
       "      <td>77</td>\n",
       "    </tr>\n",
       "    <tr>\n",
       "      <th>Urban development</th>\n",
       "      <td>50</td>\n",
       "    </tr>\n",
       "    <tr>\n",
       "      <th>Economic management</th>\n",
       "      <td>38</td>\n",
       "    </tr>\n",
       "  </tbody>\n",
       "</table>\n",
       "</div>"
      ],
      "text/plain": [
       "                                              Count\n",
       "Major Project Theme                                \n",
       "Environment and natural resources management    250\n",
       "Rural development                               216\n",
       "Human development                               210\n",
       "Public sector governance                        199\n",
       "Social protection and risk management           168\n",
       "Financial and private sector development        146\n",
       "Social dev/gender/inclusion                     130\n",
       "Trade and integration                            77\n",
       "Urban development                                50\n",
       "Economic management                              38"
      ]
     },
     "execution_count": 7,
     "metadata": {},
     "output_type": "execute_result"
    }
   ],
   "source": [
    "# Reset the counter for projects by each major project theme\n",
    "theme_count = Counter()\n",
    "\n",
    "# Loop through each instance of mjtheme_namecode in the corrected dataframe\n",
    "for major_theme_nc in df_corrected.mjtheme_namecode:\n",
    "    major_proj_theme = pd.json_normalize(major_theme_nc, max_level=1)\n",
    "    \n",
    "    #Loop through each dictionary in this mjtheme_namecode\n",
    "    for n in major_proj_theme['name']:\n",
    "        theme_count[n] += 1\n",
    "\n",
    "# Convert the Counter dictionary to a dataframe df_major_theme_count for sorting and display.\n",
    "df_major_theme_count = pd.DataFrame.from_dict(theme_count, orient='index', columns=['Count'])\n",
    "df_major_theme_count.index.name = 'Major Project Theme'\n",
    "\n",
    "# Display the count of the 10 major project themes\n",
    "df_major_theme_count.sort_values('Count', ascending=False).head(10)"
   ]
  }
 ],
 "metadata": {
  "kernelspec": {
   "display_name": "Python 3",
   "language": "python",
   "name": "python3"
  },
  "language_info": {
   "codemirror_mode": {
    "name": "ipython",
    "version": 3
   },
   "file_extension": ".py",
   "mimetype": "text/x-python",
   "name": "python",
   "nbconvert_exporter": "python",
   "pygments_lexer": "ipython3",
   "version": "3.7.6"
  }
 },
 "nbformat": 4,
 "nbformat_minor": 1
}
