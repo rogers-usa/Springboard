{
 "cells": [
  {
   "cell_type": "markdown",
   "metadata": {},
   "source": [
    "# Data Wrangling - Chicago Crime"
   ]
  },
  {
   "cell_type": "markdown",
   "metadata": {
    "ExecuteTime": {
     "end_time": "2020-07-01T15:51:24.442526Z",
     "start_time": "2020-07-01T15:51:24.438525Z"
    }
   },
   "source": [
    "## Set up the environment"
   ]
  },
  {
   "cell_type": "code",
   "execution_count": 1,
   "metadata": {
    "ExecuteTime": {
     "end_time": "2020-07-05T13:08:14.809346Z",
     "start_time": "2020-07-05T13:08:12.854273Z"
    },
    "hide_input": false
   },
   "outputs": [],
   "source": [
    "import pandas as pd\n",
    "from matplotlib import pyplot as plt\n",
    "import seaborn as sns\n",
    "import math\n",
    "import googlemaps\n",
    "from collections import Counter"
   ]
  },
  {
   "cell_type": "code",
   "execution_count": 2,
   "metadata": {
    "ExecuteTime": {
     "end_time": "2020-07-05T13:08:14.816087Z",
     "start_time": "2020-07-05T13:08:14.811015Z"
    }
   },
   "outputs": [
    {
     "data": {
      "text/plain": [
       "'C:\\\\Users\\\\aroge\\\\Documents\\\\GitHub\\\\Springboard\\\\Chicago_Crime'"
      ]
     },
     "execution_count": 2,
     "metadata": {},
     "output_type": "execute_result"
    }
   ],
   "source": [
    "import os\n",
    "os.getcwd()"
   ]
  },
  {
   "cell_type": "markdown",
   "metadata": {
    "ExecuteTime": {
     "end_time": "2020-07-01T15:52:25.931615Z",
     "start_time": "2020-07-01T15:52:25.928613Z"
    }
   },
   "source": [
    "## Import the file and inspect its basic characteristics"
   ]
  },
  {
   "cell_type": "code",
   "execution_count": 3,
   "metadata": {
    "ExecuteTime": {
     "end_time": "2020-07-05T13:08:15.580615Z",
     "start_time": "2020-07-05T13:08:14.818014Z"
    }
   },
   "outputs": [],
   "source": [
    "df = pd.read_csv('crimes_2019.csv', index_col='ID') "
   ]
  },
  {
   "cell_type": "code",
   "execution_count": 4,
   "metadata": {
    "ExecuteTime": {
     "end_time": "2020-07-05T13:08:15.587197Z",
     "start_time": "2020-07-05T13:08:15.582197Z"
    }
   },
   "outputs": [
    {
     "data": {
      "text/plain": [
       "(259210, 21)"
      ]
     },
     "execution_count": 4,
     "metadata": {},
     "output_type": "execute_result"
    }
   ],
   "source": [
    "df.shape"
   ]
  },
  {
   "cell_type": "code",
   "execution_count": 5,
   "metadata": {
    "ExecuteTime": {
     "end_time": "2020-07-05T13:08:15.617199Z",
     "start_time": "2020-07-05T13:08:15.589200Z"
    }
   },
   "outputs": [
    {
     "data": {
      "text/html": [
       "<div>\n",
       "<style scoped>\n",
       "    .dataframe tbody tr th:only-of-type {\n",
       "        vertical-align: middle;\n",
       "    }\n",
       "\n",
       "    .dataframe tbody tr th {\n",
       "        vertical-align: top;\n",
       "    }\n",
       "\n",
       "    .dataframe thead th {\n",
       "        text-align: right;\n",
       "    }\n",
       "</style>\n",
       "<table border=\"1\" class=\"dataframe\">\n",
       "  <thead>\n",
       "    <tr style=\"text-align: right;\">\n",
       "      <th></th>\n",
       "      <th>Case Number</th>\n",
       "      <th>Date</th>\n",
       "      <th>Block</th>\n",
       "      <th>IUCR</th>\n",
       "      <th>Primary Type</th>\n",
       "      <th>Description</th>\n",
       "      <th>Location Description</th>\n",
       "      <th>Arrest</th>\n",
       "      <th>Domestic</th>\n",
       "      <th>Beat</th>\n",
       "      <th>...</th>\n",
       "      <th>Ward</th>\n",
       "      <th>Community Area</th>\n",
       "      <th>FBI Code</th>\n",
       "      <th>X Coordinate</th>\n",
       "      <th>Y Coordinate</th>\n",
       "      <th>Year</th>\n",
       "      <th>Updated On</th>\n",
       "      <th>Latitude</th>\n",
       "      <th>Longitude</th>\n",
       "      <th>Location</th>\n",
       "    </tr>\n",
       "    <tr>\n",
       "      <th>ID</th>\n",
       "      <th></th>\n",
       "      <th></th>\n",
       "      <th></th>\n",
       "      <th></th>\n",
       "      <th></th>\n",
       "      <th></th>\n",
       "      <th></th>\n",
       "      <th></th>\n",
       "      <th></th>\n",
       "      <th></th>\n",
       "      <th></th>\n",
       "      <th></th>\n",
       "      <th></th>\n",
       "      <th></th>\n",
       "      <th></th>\n",
       "      <th></th>\n",
       "      <th></th>\n",
       "      <th></th>\n",
       "      <th></th>\n",
       "      <th></th>\n",
       "      <th></th>\n",
       "    </tr>\n",
       "  </thead>\n",
       "  <tbody>\n",
       "    <tr>\n",
       "      <th>11734802</th>\n",
       "      <td>JC301648</td>\n",
       "      <td>6/11/2019 6:00</td>\n",
       "      <td>033XX W FILLMORE ST</td>\n",
       "      <td>1812</td>\n",
       "      <td>NARCOTICS</td>\n",
       "      <td>POSSESS - CANNABIS MORE THAN 30 GRAMS</td>\n",
       "      <td>POLICE FACILITY / VEHICLE PARKING LOT</td>\n",
       "      <td>False</td>\n",
       "      <td>False</td>\n",
       "      <td>1134</td>\n",
       "      <td>...</td>\n",
       "      <td>24.0</td>\n",
       "      <td>29</td>\n",
       "      <td>18</td>\n",
       "      <td>NaN</td>\n",
       "      <td>NaN</td>\n",
       "      <td>2019</td>\n",
       "      <td>6/18/2020 15:48</td>\n",
       "      <td>NaN</td>\n",
       "      <td>NaN</td>\n",
       "      <td>NaN</td>\n",
       "    </tr>\n",
       "    <tr>\n",
       "      <th>12080437</th>\n",
       "      <td>JD265831</td>\n",
       "      <td>11/1/2019 5:00</td>\n",
       "      <td>063XX S CALIFORNIA AVE</td>\n",
       "      <td>486</td>\n",
       "      <td>BATTERY</td>\n",
       "      <td>DOMESTIC BATTERY SIMPLE</td>\n",
       "      <td>RESIDENCE</td>\n",
       "      <td>False</td>\n",
       "      <td>True</td>\n",
       "      <td>825</td>\n",
       "      <td>...</td>\n",
       "      <td>17.0</td>\n",
       "      <td>66</td>\n",
       "      <td>08B</td>\n",
       "      <td>NaN</td>\n",
       "      <td>NaN</td>\n",
       "      <td>2019</td>\n",
       "      <td>6/18/2020 15:48</td>\n",
       "      <td>NaN</td>\n",
       "      <td>NaN</td>\n",
       "      <td>NaN</td>\n",
       "    </tr>\n",
       "    <tr>\n",
       "      <th>11721309</th>\n",
       "      <td>JC288956</td>\n",
       "      <td>6/2/2019 12:22</td>\n",
       "      <td>044XX W WASHINGTON BLVD</td>\n",
       "      <td>2017</td>\n",
       "      <td>NARCOTICS</td>\n",
       "      <td>MANUFACTURE / DELIVER - CRACK</td>\n",
       "      <td>VEHICLE NON-COMMERCIAL</td>\n",
       "      <td>False</td>\n",
       "      <td>False</td>\n",
       "      <td>1113</td>\n",
       "      <td>...</td>\n",
       "      <td>28.0</td>\n",
       "      <td>26</td>\n",
       "      <td>18</td>\n",
       "      <td>NaN</td>\n",
       "      <td>NaN</td>\n",
       "      <td>2019</td>\n",
       "      <td>6/18/2020 15:48</td>\n",
       "      <td>NaN</td>\n",
       "      <td>NaN</td>\n",
       "      <td>NaN</td>\n",
       "    </tr>\n",
       "    <tr>\n",
       "      <th>12078686</th>\n",
       "      <td>JD264973</td>\n",
       "      <td>6/15/2019 0:01</td>\n",
       "      <td>014XX W GEORGE ST</td>\n",
       "      <td>530</td>\n",
       "      <td>ASSAULT</td>\n",
       "      <td>AGGRAVATED - OTHER DANGEROUS WEAPON</td>\n",
       "      <td>ALLEY</td>\n",
       "      <td>False</td>\n",
       "      <td>False</td>\n",
       "      <td>1932</td>\n",
       "      <td>...</td>\n",
       "      <td>32.0</td>\n",
       "      <td>6</td>\n",
       "      <td>04A</td>\n",
       "      <td>1166295.0</td>\n",
       "      <td>1919354.0</td>\n",
       "      <td>2019</td>\n",
       "      <td>6/18/2020 15:46</td>\n",
       "      <td>41.934286</td>\n",
       "      <td>-87.664279</td>\n",
       "      <td>(41.93428599, -87.66427875)</td>\n",
       "    </tr>\n",
       "    <tr>\n",
       "      <th>11725655</th>\n",
       "      <td>JC286220</td>\n",
       "      <td>5/31/2019 12:05</td>\n",
       "      <td>079XX S DR MARTIN LUTHER KING JR DR</td>\n",
       "      <td>2014</td>\n",
       "      <td>NARCOTICS</td>\n",
       "      <td>MANUFACTURE / DELIVER -  HEROIN (WHITE)</td>\n",
       "      <td>SIDEWALK</td>\n",
       "      <td>False</td>\n",
       "      <td>False</td>\n",
       "      <td>623</td>\n",
       "      <td>...</td>\n",
       "      <td>6.0</td>\n",
       "      <td>44</td>\n",
       "      <td>18</td>\n",
       "      <td>NaN</td>\n",
       "      <td>NaN</td>\n",
       "      <td>2019</td>\n",
       "      <td>6/18/2020 15:48</td>\n",
       "      <td>NaN</td>\n",
       "      <td>NaN</td>\n",
       "      <td>NaN</td>\n",
       "    </tr>\n",
       "  </tbody>\n",
       "</table>\n",
       "<p>5 rows × 21 columns</p>\n",
       "</div>"
      ],
      "text/plain": [
       "         Case Number             Date                                Block  \\\n",
       "ID                                                                           \n",
       "11734802    JC301648   6/11/2019 6:00                  033XX W FILLMORE ST   \n",
       "12080437    JD265831   11/1/2019 5:00               063XX S CALIFORNIA AVE   \n",
       "11721309    JC288956   6/2/2019 12:22              044XX W WASHINGTON BLVD   \n",
       "12078686    JD264973   6/15/2019 0:01                    014XX W GEORGE ST   \n",
       "11725655    JC286220  5/31/2019 12:05  079XX S DR MARTIN LUTHER KING JR DR   \n",
       "\n",
       "          IUCR Primary Type                              Description  \\\n",
       "ID                                                                     \n",
       "11734802  1812    NARCOTICS    POSSESS - CANNABIS MORE THAN 30 GRAMS   \n",
       "12080437   486      BATTERY                  DOMESTIC BATTERY SIMPLE   \n",
       "11721309  2017    NARCOTICS            MANUFACTURE / DELIVER - CRACK   \n",
       "12078686   530      ASSAULT      AGGRAVATED - OTHER DANGEROUS WEAPON   \n",
       "11725655  2014    NARCOTICS  MANUFACTURE / DELIVER -  HEROIN (WHITE)   \n",
       "\n",
       "                           Location Description  Arrest  Domestic  Beat  ...  \\\n",
       "ID                                                                       ...   \n",
       "11734802  POLICE FACILITY / VEHICLE PARKING LOT   False     False  1134  ...   \n",
       "12080437                              RESIDENCE   False      True   825  ...   \n",
       "11721309                 VEHICLE NON-COMMERCIAL   False     False  1113  ...   \n",
       "12078686                                  ALLEY   False     False  1932  ...   \n",
       "11725655                               SIDEWALK   False     False   623  ...   \n",
       "\n",
       "          Ward  Community Area  FBI Code X Coordinate  Y Coordinate  Year  \\\n",
       "ID                                                                          \n",
       "11734802  24.0              29        18          NaN           NaN  2019   \n",
       "12080437  17.0              66       08B          NaN           NaN  2019   \n",
       "11721309  28.0              26        18          NaN           NaN  2019   \n",
       "12078686  32.0               6       04A    1166295.0     1919354.0  2019   \n",
       "11725655   6.0              44        18          NaN           NaN  2019   \n",
       "\n",
       "               Updated On   Latitude  Longitude                     Location  \n",
       "ID                                                                            \n",
       "11734802  6/18/2020 15:48        NaN        NaN                          NaN  \n",
       "12080437  6/18/2020 15:48        NaN        NaN                          NaN  \n",
       "11721309  6/18/2020 15:48        NaN        NaN                          NaN  \n",
       "12078686  6/18/2020 15:46  41.934286 -87.664279  (41.93428599, -87.66427875)  \n",
       "11725655  6/18/2020 15:48        NaN        NaN                          NaN  \n",
       "\n",
       "[5 rows x 21 columns]"
      ]
     },
     "execution_count": 5,
     "metadata": {},
     "output_type": "execute_result"
    }
   ],
   "source": [
    "df.head()"
   ]
  },
  {
   "cell_type": "markdown",
   "metadata": {},
   "source": [
    "## Check the columns for null values"
   ]
  },
  {
   "cell_type": "code",
   "execution_count": 6,
   "metadata": {
    "ExecuteTime": {
     "end_time": "2020-07-05T13:08:15.725198Z",
     "start_time": "2020-07-05T13:08:15.619198Z"
    },
    "scrolled": true
   },
   "outputs": [
    {
     "data": {
      "text/plain": [
       "Case Number                0\n",
       "Date                       0\n",
       "Block                      0\n",
       "IUCR                       0\n",
       "Primary Type               0\n",
       "Description                0\n",
       "Location Description    1066\n",
       "Arrest                     0\n",
       "Domestic                   0\n",
       "Beat                       0\n",
       "District                   0\n",
       "Ward                      15\n",
       "Community Area             0\n",
       "FBI Code                   0\n",
       "X Coordinate            1177\n",
       "Y Coordinate            1177\n",
       "Year                       0\n",
       "Updated On                 0\n",
       "Latitude                1177\n",
       "Longitude               1177\n",
       "Location                1177\n",
       "dtype: int64"
      ]
     },
     "execution_count": 6,
     "metadata": {},
     "output_type": "execute_result"
    }
   ],
   "source": [
    "df.isnull().sum()"
   ]
  },
  {
   "cell_type": "markdown",
   "metadata": {},
   "source": [
    "Nulls for the location-based columns is our biggest problem since the purpose of this project is to study crime based on other factors at the same location. This will be addressed below."
   ]
  },
  {
   "cell_type": "markdown",
   "metadata": {},
   "source": [
    "## Explore the contents of the data, column by column"
   ]
  },
  {
   "cell_type": "code",
   "execution_count": 7,
   "metadata": {
    "ExecuteTime": {
     "end_time": "2020-07-05T13:08:15.780266Z",
     "start_time": "2020-07-05T13:08:15.727198Z"
    },
    "scrolled": true
   },
   "outputs": [
    {
     "data": {
      "text/plain": [
       "001XX N STATE ST         1087\n",
       "008XX N MICHIGAN AVE      472\n",
       "0000X W TERMINAL ST       427\n",
       "0000X S STATE ST          411\n",
       "0000X N STATE ST          363\n",
       "                         ... \n",
       "033XX N OKETO AVE           1\n",
       "099XX S PRAIRIE AVE         1\n",
       "057XX S CLAREMONT AVE       1\n",
       "038XX W ROSEMONT AVE        1\n",
       "065XX N WAUKESHA AVE        1\n",
       "Name: Block, Length: 27777, dtype: int64"
      ]
     },
     "execution_count": 7,
     "metadata": {},
     "output_type": "execute_result"
    }
   ],
   "source": [
    "df['Block'].value_counts()"
   ]
  },
  {
   "cell_type": "code",
   "execution_count": 8,
   "metadata": {
    "ExecuteTime": {
     "end_time": "2020-07-05T13:08:15.818291Z",
     "start_time": "2020-07-05T13:08:15.782197Z"
    }
   },
   "outputs": [
    {
     "data": {
      "text/plain": [
       "031A    2640\n",
       "031B      45\n",
       "033A     239\n",
       "033B       6\n",
       "041A    1606\n",
       "        ... \n",
       "928        1\n",
       "930      593\n",
       "935       26\n",
       "937        1\n",
       "938        1\n",
       "Name: IUCR, Length: 318, dtype: int64"
      ]
     },
     "execution_count": 8,
     "metadata": {},
     "output_type": "execute_result"
    }
   ],
   "source": [
    "df['IUCR'].value_counts().sort_index()"
   ]
  },
  {
   "cell_type": "code",
   "execution_count": 9,
   "metadata": {
    "ExecuteTime": {
     "end_time": "2020-07-05T13:08:15.858206Z",
     "start_time": "2020-07-05T13:08:15.820199Z"
    }
   },
   "outputs": [
    {
     "data": {
      "text/plain": [
       "THEFT                                62387\n",
       "BATTERY                              49487\n",
       "CRIMINAL DAMAGE                      26671\n",
       "ASSAULT                              20608\n",
       "DECEPTIVE PRACTICE                   18330\n",
       "OTHER OFFENSE                        16696\n",
       "NARCOTICS                            14238\n",
       "BURGLARY                              9627\n",
       "MOTOR VEHICLE THEFT                   8978\n",
       "ROBBERY                               7989\n",
       "CRIMINAL TRESPASS                     6817\n",
       "WEAPONS VIOLATION                     6325\n",
       "OFFENSE INVOLVING CHILDREN            2293\n",
       "INTERFERENCE WITH PUBLIC OFFICER      1546\n",
       "PUBLIC PEACE VIOLATION                1520\n",
       "SEX OFFENSE                           1297\n",
       "CRIM SEXUAL ASSAULT                   1244\n",
       "PROSTITUTION                           680\n",
       "HOMICIDE                               503\n",
       "ARSON                                  378\n",
       "CRIMINAL SEXUAL ASSAULT                356\n",
       "LIQUOR LAW VIOLATION                   231\n",
       "STALKING                               223\n",
       "CONCEALED CARRY LICENSE VIOLATION      217\n",
       "KIDNAPPING                             172\n",
       "INTIMIDATION                           163\n",
       "GAMBLING                               142\n",
       "OBSCENITY                               58\n",
       "HUMAN TRAFFICKING                       11\n",
       "PUBLIC INDECENCY                        11\n",
       "OTHER NARCOTIC VIOLATION                 8\n",
       "NON-CRIMINAL                             4\n",
       "Name: Primary Type, dtype: int64"
      ]
     },
     "execution_count": 9,
     "metadata": {},
     "output_type": "execute_result"
    }
   ],
   "source": [
    "df['Primary Type'].value_counts()"
   ]
  },
  {
   "cell_type": "code",
   "execution_count": 10,
   "metadata": {
    "ExecuteTime": {
     "end_time": "2020-07-05T13:08:15.892211Z",
     "start_time": "2020-07-05T13:08:15.860245Z"
    }
   },
   "outputs": [
    {
     "data": {
      "text/plain": [
       "STREET                                       56450\n",
       "RESIDENCE                                    42878\n",
       "APARTMENT                                    34638\n",
       "SIDEWALK                                     20181\n",
       "OTHER                                        10563\n",
       "                                             ...  \n",
       "COLLEGE / UNIVERSITY - GROUNDS                   1\n",
       "SPORTS ARENA / STADIUM                           1\n",
       "FACTORY / MANUFACTURING BUILDING                 1\n",
       "CTA PARKING LOT / GARAGE / OTHER PROPERTY        1\n",
       "CHA GROUNDS                                      1\n",
       "Name: Location Description, Length: 155, dtype: int64"
      ]
     },
     "execution_count": 10,
     "metadata": {},
     "output_type": "execute_result"
    }
   ],
   "source": [
    "df['Location Description'].value_counts()"
   ]
  },
  {
   "cell_type": "code",
   "execution_count": 11,
   "metadata": {
    "ExecuteTime": {
     "end_time": "2020-07-05T13:08:15.906201Z",
     "start_time": "2020-07-05T13:08:15.894199Z"
    }
   },
   "outputs": [
    {
     "data": {
      "text/plain": [
       "False    204169\n",
       "True      55041\n",
       "Name: Arrest, dtype: int64"
      ]
     },
     "execution_count": 11,
     "metadata": {},
     "output_type": "execute_result"
    }
   ],
   "source": [
    "df['Arrest'].value_counts().sort_index()"
   ]
  },
  {
   "cell_type": "code",
   "execution_count": 12,
   "metadata": {
    "ExecuteTime": {
     "end_time": "2020-07-05T13:08:15.918199Z",
     "start_time": "2020-07-05T13:08:15.908199Z"
    }
   },
   "outputs": [
    {
     "data": {
      "text/plain": [
       "False    216140\n",
       "True      43070\n",
       "Name: Domestic, dtype: int64"
      ]
     },
     "execution_count": 12,
     "metadata": {},
     "output_type": "execute_result"
    }
   ],
   "source": [
    "df['Domestic'].value_counts().sort_index()"
   ]
  },
  {
   "cell_type": "code",
   "execution_count": 13,
   "metadata": {
    "ExecuteTime": {
     "end_time": "2020-07-05T13:08:15.931219Z",
     "start_time": "2020-07-05T13:08:15.920199Z"
    }
   },
   "outputs": [
    {
     "data": {
      "text/plain": [
       "111     2496\n",
       "112     2165\n",
       "113     1049\n",
       "114     1190\n",
       "121      786\n",
       "        ... \n",
       "2531     686\n",
       "2532    1018\n",
       "2533    1597\n",
       "2534    1193\n",
       "2535     837\n",
       "Name: Beat, Length: 274, dtype: int64"
      ]
     },
     "execution_count": 13,
     "metadata": {},
     "output_type": "execute_result"
    }
   ],
   "source": [
    "df['Beat'].value_counts().sort_index()"
   ]
  },
  {
   "cell_type": "code",
   "execution_count": 14,
   "metadata": {
    "ExecuteTime": {
     "end_time": "2020-07-05T13:08:15.944200Z",
     "start_time": "2020-07-05T13:08:15.933201Z"
    }
   },
   "outputs": [
    {
     "data": {
      "text/plain": [
       "1     15198\n",
       "2     11182\n",
       "3     12433\n",
       "4     13975\n",
       "5     11307\n",
       "6     16778\n",
       "7     13600\n",
       "8     15596\n",
       "9     10915\n",
       "10    12431\n",
       "11    18301\n",
       "12    13123\n",
       "14     9239\n",
       "15     9951\n",
       "16     8199\n",
       "17     6719\n",
       "18    15124\n",
       "19    11770\n",
       "20     4345\n",
       "22     8207\n",
       "24     7956\n",
       "25    12854\n",
       "31        7\n",
       "Name: District, dtype: int64"
      ]
     },
     "execution_count": 14,
     "metadata": {},
     "output_type": "execute_result"
    }
   ],
   "source": [
    "df['District'].value_counts().sort_index()"
   ]
  },
  {
   "cell_type": "code",
   "execution_count": 15,
   "metadata": {
    "ExecuteTime": {
     "end_time": "2020-07-05T13:08:15.961213Z",
     "start_time": "2020-07-05T13:08:15.945228Z"
    }
   },
   "outputs": [
    {
     "data": {
      "text/plain": [
       "1.0      4799\n",
       "2.0      5254\n",
       "3.0      7348\n",
       "4.0      6923\n",
       "5.0      5892\n",
       "6.0      9700\n",
       "7.0      7506\n",
       "8.0      8119\n",
       "9.0      7849\n",
       "10.0     3721\n",
       "11.0     3086\n",
       "12.0     3206\n",
       "13.0     2245\n",
       "14.0     2929\n",
       "15.0     3786\n",
       "16.0     7877\n",
       "17.0     8362\n",
       "18.0     3773\n",
       "19.0     2005\n",
       "20.0     8005\n",
       "21.0     8276\n",
       "22.0     3320\n",
       "23.0     2450\n",
       "24.0    11024\n",
       "25.0     4801\n",
       "26.0     3810\n",
       "27.0    12390\n",
       "28.0    12860\n",
       "29.0     5912\n",
       "30.0     2665\n",
       "31.0     2892\n",
       "32.0     3257\n",
       "33.0     2376\n",
       "34.0     6666\n",
       "35.0     2813\n",
       "36.0     2816\n",
       "37.0     7753\n",
       "38.0     1818\n",
       "39.0     2204\n",
       "40.0     2729\n",
       "41.0     2828\n",
       "42.0    16604\n",
       "43.0     3065\n",
       "44.0     4217\n",
       "45.0     2493\n",
       "46.0     3233\n",
       "47.0     2353\n",
       "48.0     2581\n",
       "49.0     3997\n",
       "50.0     2607\n",
       "Name: Ward, dtype: int64"
      ]
     },
     "execution_count": 15,
     "metadata": {},
     "output_type": "execute_result"
    }
   ],
   "source": [
    "df['Ward'].value_counts().sort_index()"
   ]
  },
  {
   "cell_type": "code",
   "execution_count": 16,
   "metadata": {
    "ExecuteTime": {
     "end_time": "2020-07-05T13:08:15.973198Z",
     "start_time": "2020-07-05T13:08:15.963197Z"
    }
   },
   "outputs": [
    {
     "data": {
      "text/plain": [
       "1     4037\n",
       "2     3441\n",
       "3     3339\n",
       "4     1793\n",
       "5     1270\n",
       "      ... \n",
       "73    3207\n",
       "74     466\n",
       "75    1868\n",
       "76    1623\n",
       "77    2493\n",
       "Name: Community Area, Length: 77, dtype: int64"
      ]
     },
     "execution_count": 16,
     "metadata": {},
     "output_type": "execute_result"
    }
   ],
   "source": [
    "df['Community Area'].value_counts().sort_index()"
   ]
  },
  {
   "cell_type": "code",
   "execution_count": 17,
   "metadata": {
    "ExecuteTime": {
     "end_time": "2020-07-05T13:08:16.003198Z",
     "start_time": "2020-07-05T13:08:15.975197Z"
    }
   },
   "outputs": [
    {
     "data": {
      "text/plain": [
       "01A      495\n",
       "01B        8\n",
       "04A     5840\n",
       "04B     7860\n",
       "08A    18358\n",
       "08B    42363\n",
       "10      1560\n",
       "11     16661\n",
       "12        31\n",
       "13        43\n",
       "14     26671\n",
       "15      6545\n",
       "16       680\n",
       "17      1864\n",
       "18     14243\n",
       "19       143\n",
       "2       1768\n",
       "20       804\n",
       "22       231\n",
       "24      3033\n",
       "26     20650\n",
       "3       7989\n",
       "5       9627\n",
       "6      62387\n",
       "7       8978\n",
       "9        378\n",
       "Name: FBI Code, dtype: int64"
      ]
     },
     "execution_count": 17,
     "metadata": {},
     "output_type": "execute_result"
    }
   ],
   "source": [
    "df['FBI Code'].value_counts().sort_index()"
   ]
  },
  {
   "cell_type": "markdown",
   "metadata": {},
   "source": [
    "## Address the null values"
   ]
  },
  {
   "cell_type": "markdown",
   "metadata": {
    "ExecuteTime": {
     "end_time": "2020-06-30T22:57:18.035812Z",
     "start_time": "2020-06-30T22:57:18.032809Z"
    }
   },
   "source": [
    "For the rows that have null location data, create a dictionary of replacement values \n",
    "\n",
    "Are there other rows in our data that have the same \"Block\" value and have valid location data? Take the mean of those values for our dictionary."
   ]
  },
  {
   "cell_type": "code",
   "execution_count": 18,
   "metadata": {
    "ExecuteTime": {
     "end_time": "2020-07-05T13:08:16.021198Z",
     "start_time": "2020-07-05T13:08:16.005197Z"
    },
    "scrolled": false
   },
   "outputs": [
    {
     "name": "stdout",
     "output_type": "stream",
     "text": [
      "Before removing duplicates, 1177 rows have NULL location data.\n",
      "After removing duplicates, 982 rows have NULL location data.\n"
     ]
    }
   ],
   "source": [
    "# Create a DataFrame of just rows with null location data\n",
    "df_nulls = df[df.Latitude.isnull()]\n",
    "print(\"Before removing duplicates,\", df_nulls.shape[0], \"rows have NULL location data.\")\n",
    "\n",
    "# Remove duplicate rows in df_nulls\n",
    "df_nulls = df_nulls.drop_duplicates(subset='Block', keep=\"first\")\n",
    "print(\"After removing duplicates,\", df_nulls.shape[0], \"rows have NULL location data.\")"
   ]
  },
  {
   "cell_type": "code",
   "execution_count": 19,
   "metadata": {
    "ExecuteTime": {
     "end_time": "2020-07-05T13:08:41.781316Z",
     "start_time": "2020-07-05T13:08:16.023198Z"
    }
   },
   "outputs": [],
   "source": [
    "# Create latitude and longitude dictionaries for rows with missing location data. The key is the Block column\n",
    "# Every row with a null location has a value for Block. Take the mean of the other rows with the same Block. \n",
    "#\n",
    "# THIS TAKES SEVERAL SECONDS TO RUN\n",
    "\n",
    "block_lat = {}\n",
    "block_long = {}\n",
    "for block in df_nulls.Block:\n",
    "    block_lat[block] = df[df.Block == block].Latitude.mean()\n",
    "    block_long[block] = df[df.Block == block].Longitude.mean()"
   ]
  },
  {
   "cell_type": "code",
   "execution_count": 20,
   "metadata": {
    "ExecuteTime": {
     "end_time": "2020-07-05T13:08:59.356253Z",
     "start_time": "2020-07-05T13:08:41.785318Z"
    },
    "scrolled": true
   },
   "outputs": [],
   "source": [
    "# Now that we have the dictionaries, update the original dataframe\n",
    "\n",
    "# Gather the indexes of the rows that have NULL location data\n",
    "null_loc_indexes = df[df.Latitude.isnull()].index\n",
    "\n",
    "# Update the location data with the dictionary values\n",
    "#\n",
    "# THIS TAKES A FEW SECONDS TO RUN\n",
    "\n",
    "for i in null_loc_indexes:\n",
    "    df.loc[df.index == i, 'Latitude'] = block_lat[df.loc[i].Block]\n",
    "    df.loc[df.index == i, 'Longitude'] = block_long[df.loc[i].Block]\n",
    "    df.loc[df.index == i, 'Location'] = str(tuple([block_lat[df.loc[i].Block], block_long[df.loc[i].Block]]))"
   ]
  },
  {
   "cell_type": "code",
   "execution_count": 21,
   "metadata": {
    "ExecuteTime": {
     "end_time": "2020-07-05T13:08:59.365255Z",
     "start_time": "2020-07-05T13:08:59.358241Z"
    }
   },
   "outputs": [
    {
     "name": "stdout",
     "output_type": "stream",
     "text": [
      "Still have 193 rows with NULL location data.\n"
     ]
    }
   ],
   "source": [
    "# How many rows still have NULL location data?\n",
    "print(\"Still have\", df[df.Latitude.isnull()].shape[0], \"rows with NULL location data.\")"
   ]
  },
  {
   "cell_type": "markdown",
   "metadata": {},
   "source": [
    "Given that less than 0.1% of rows have missing location data, we will delete these rows."
   ]
  },
  {
   "cell_type": "code",
   "execution_count": 22,
   "metadata": {
    "ExecuteTime": {
     "end_time": "2020-07-05T13:08:59.415287Z",
     "start_time": "2020-07-05T13:08:59.366299Z"
    },
    "scrolled": true
   },
   "outputs": [
    {
     "name": "stdout",
     "output_type": "stream",
     "text": [
      "Number of rows in original dataframe = 259210\n",
      "Number of rows in cleaned dataframe = 259017\n"
     ]
    }
   ],
   "source": [
    "# Print the number of rows in the original dataframe\n",
    "print(\"Number of rows in original dataframe =\", df.shape[0])\n",
    "\n",
    "# Create a new dataframe without the rows with NULL location data\n",
    "null_locations = df[df.Latitude.isnull()].index\n",
    "crimes = df.drop(null_locations)\n",
    "\n",
    "# Print the number of rows in the new dataframe\n",
    "print(\"Number of rows in cleaned dataframe =\", crimes.shape[0])"
   ]
  },
  {
   "cell_type": "markdown",
   "metadata": {
    "ExecuteTime": {
     "end_time": "2020-06-30T23:07:50.369912Z",
     "start_time": "2020-06-30T23:07:50.365024Z"
    }
   },
   "source": [
    "We see the number of rows drops equals the number of rows that had NULL location data."
   ]
  }
 ],
 "metadata": {
  "kernelspec": {
   "display_name": "Python 3",
   "language": "python",
   "name": "python3"
  },
  "language_info": {
   "codemirror_mode": {
    "name": "ipython",
    "version": 3
   },
   "file_extension": ".py",
   "mimetype": "text/x-python",
   "name": "python",
   "nbconvert_exporter": "python",
   "pygments_lexer": "ipython3",
   "version": "3.7.6"
  },
  "toc": {
   "base_numbering": 1,
   "nav_menu": {},
   "number_sections": true,
   "sideBar": true,
   "skip_h1_title": false,
   "title_cell": "Table of Contents",
   "title_sidebar": "Contents",
   "toc_cell": false,
   "toc_position": {
    "height": "calc(100% - 180px)",
    "left": "10px",
    "top": "150px",
    "width": "237.48px"
   },
   "toc_section_display": true,
   "toc_window_display": false
  },
  "varInspector": {
   "cols": {
    "lenName": 16,
    "lenType": 16,
    "lenVar": 40
   },
   "kernels_config": {
    "python": {
     "delete_cmd_postfix": "",
     "delete_cmd_prefix": "del ",
     "library": "var_list.py",
     "varRefreshCmd": "print(var_dic_list())"
    },
    "r": {
     "delete_cmd_postfix": ") ",
     "delete_cmd_prefix": "rm(",
     "library": "var_list.r",
     "varRefreshCmd": "cat(var_dic_list()) "
    }
   },
   "oldHeight": 157.56,
   "position": {
    "height": "40px",
    "left": "623.07px",
    "right": "20px",
    "top": "42px",
    "width": "563.44px"
   },
   "types_to_exclude": [
    "module",
    "function",
    "builtin_function_or_method",
    "instance",
    "_Feature"
   ],
   "varInspector_section_display": "none",
   "window_display": false
  }
 },
 "nbformat": 4,
 "nbformat_minor": 4
}
